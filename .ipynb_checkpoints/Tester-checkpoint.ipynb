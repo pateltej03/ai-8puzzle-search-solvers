{
 "cells": [
  {
   "cell_type": "code",
   "execution_count": 21,
   "id": "5658b086-9866-44c3-944f-20abde7c43f7",
   "metadata": {},
   "outputs": [
    {
     "data": {
      "text/html": [
       "<table><tr><th>Question</th><th>Feedback</th></tr><tr><td>Q1.1a</td><td style='color: green'>Valid solution</td></tr><tr><td>Q1.1b</td><td style='color: green'>Valid solution</td></tr><tr><td>Q1.1c</td><td style='color: green'>Valid solution</td></tr><tr><td>Q1.1d</td><td style='color: green'>Valid solution</td></tr><tr><td>Q1.1e</td><td style='color: green'>Valid solution</td></tr></table>"
      ],
      "text/plain": [
       "<IPython.core.display.HTML object>"
      ]
     },
     "metadata": {},
     "output_type": "display_data"
    }
   ],
   "source": [
    "import re\n",
    "import io\n",
    "import sys\n",
    "from IPython.display import display, HTML\n",
    "\n",
    "class PuzzleState:\n",
    "    def __init__(self, state, parent=None, move=None):\n",
    "        self.state = state\n",
    "        self.parent = parent\n",
    "        self.move = move\n",
    "\n",
    "def run_solution(solution_file, input_file):\n",
    "    with open(input_file, 'r') as f:\n",
    "        input_content = f.read().strip()\n",
    "\n",
    "    old_stdout = sys.stdout\n",
    "    new_stdout = io.StringIO()\n",
    "    sys.stdout = new_stdout\n",
    "    \n",
    "    with open(solution_file, 'r') as file:\n",
    "        exec(file.read(), {'__name__': '__main__'})\n",
    "    \n",
    "    sys.stdout = old_stdout\n",
    "    \n",
    "    return new_stdout.getvalue()\n",
    "\n",
    "def parse_output(output):\n",
    "    solutions = {}\n",
    "    current_question = None\n",
    "    for line in output.split('\\n'):\n",
    "        line = line.strip()\n",
    "        if \"solution of Q\" in line:\n",
    "            match = re.search(r'Q(\\d+\\.\\d+[a-e]?)', line)\n",
    "            if match:\n",
    "                current_question = match.group(1)\n",
    "                solutions[current_question] = \"\"\n",
    "        elif current_question and line:\n",
    "            solutions[current_question] = line.strip()\n",
    "    return solutions\n",
    "\n",
    "\n",
    "def grade_solution(solution_file, input_file):\n",
    "    with open(input_file, 'r') as f:\n",
    "        initial_state = f.read().strip()\n",
    "\n",
    "    output = run_solution(solution_file, input_file)\n",
    "    parsed_output = parse_output(output)\n",
    "    \n",
    "    feedback = []\n",
    "\n",
    "    if \"q2\" in solution_file.lower():\n",
    "        expected_questions = [\"2.1a\", \"2.1b\", \"2.1c\", \"2.1d\", \"2.1e\"]\n",
    "        # goal_test = goal_test_q2\n",
    "    else:\n",
    "        expected_questions = [\"1.1a\", \"1.1b\", \"1.1c\", \"1.1d\", \"1.1e\"]\n",
    "        # goal_test = goal_test_q1\n",
    "    \n",
    "    for question in expected_questions:\n",
    "        if question in parsed_output:\n",
    "            feedback.append(f\"Q{question}: Valid solution\")\n",
    "        else:\n",
    "            feedback.append(f\"Q{question}: Invalid/Missing solution\")\n",
    "\n",
    "    return feedback\n",
    "\n",
    "def display_feedback(feedback):\n",
    "    html = \"<table>\"\n",
    "    html += \"<tr><th>Question</th><th>Feedback</th></tr>\"\n",
    "    for fb in feedback:\n",
    "        question, result = fb.split(': ', 1)\n",
    "        color = \"green\" if \"Valid solution\" in result else \"red\"\n",
    "        html += f\"<tr><td>{question}</td><td style='color: {color}'>{result}</td></tr>\"\n",
    "    html += \"</table>\"\n",
    "    display(HTML(html))\n",
    "\n",
    "solution_file = \"solution_q1.py\"\n",
    "input_file = \"input.txt\"\n",
    "\n",
    "feedback = grade_solution(solution_file, input_file)\n",
    "display_feedback(feedback)"
   ]
  },
  {
   "cell_type": "code",
   "execution_count": null,
   "id": "7e255b22-8e27-4787-8dea-d818546d2b67",
   "metadata": {},
   "outputs": [],
   "source": []
  }
 ],
 "metadata": {
  "kernelspec": {
   "display_name": "Python 3 (ipykernel)",
   "language": "python",
   "name": "python3"
  },
  "language_info": {
   "codemirror_mode": {
    "name": "ipython",
    "version": 3
   },
   "file_extension": ".py",
   "mimetype": "text/x-python",
   "name": "python",
   "nbconvert_exporter": "python",
   "pygments_lexer": "ipython3",
   "version": "3.12.4"
  }
 },
 "nbformat": 4,
 "nbformat_minor": 5
}
